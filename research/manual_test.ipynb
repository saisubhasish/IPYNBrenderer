{
 "cells": [
  {
   "cell_type": "code",
   "execution_count": 30,
   "metadata": {},
   "outputs": [
    {
     "data": {
      "text/plain": [
       "'ro05VGx0w2s'"
      ]
     },
     "execution_count": 30,
     "metadata": {},
     "output_type": "execute_result"
    }
   ],
   "source": [
    "URL1 = \"https://www.youtube.com/watch?v=ro05VGx0w2s\"\n",
    "URL1.split('=')[-1]"
   ]
  },
  {
   "cell_type": "code",
   "execution_count": 31,
   "metadata": {},
   "outputs": [
    {
     "data": {
      "text/plain": [
       "('roO5VGxOw2s', 0)"
      ]
     },
     "execution_count": 31,
     "metadata": {},
     "output_type": "execute_result"
    }
   ],
   "source": [
    "URL2 = \"https://youtu.be/roO5VGxOw2s\"\n",
    "URL2.split(\"/\")[-1], 0"
   ]
  },
  {
   "cell_type": "code",
   "execution_count": 32,
   "metadata": {},
   "outputs": [
    {
     "data": {
      "text/plain": [
       "['https://youtu.be/roO5VGxOw2s?t', '60']"
      ]
     },
     "execution_count": 32,
     "metadata": {},
     "output_type": "execute_result"
    }
   ],
   "source": [
    "URL3 = \"https://youtu.be/roO5VGxOw2s?t=60\"\n",
    "URL3.split(\"=\")"
   ]
  },
  {
   "cell_type": "code",
   "execution_count": 33,
   "metadata": {},
   "outputs": [
    {
     "data": {
      "text/plain": [
       "['https:', '', 'youtu.be', 'roO5VGxOw2s?t']"
      ]
     },
     "execution_count": 33,
     "metadata": {},
     "output_type": "execute_result"
    }
   ],
   "source": [
    "URL3.split(\"=\")[0].split(\"/\")"
   ]
  },
  {
   "cell_type": "code",
   "execution_count": 34,
   "metadata": {},
   "outputs": [
    {
     "data": {
      "text/plain": [
       "'roO5VGxOw2s'"
      ]
     },
     "execution_count": 34,
     "metadata": {},
     "output_type": "execute_result"
    }
   ],
   "source": [
    "URL3.split(\"=\")[0].split(\"/\")[-1][:-2]"
   ]
  },
  {
   "cell_type": "code",
   "execution_count": 35,
   "metadata": {},
   "outputs": [
    {
     "data": {
      "text/plain": [
       "['https://www.youtube.com/watch?v', 'roO5VGxOw2s&t', '60s']"
      ]
     },
     "execution_count": 35,
     "metadata": {},
     "output_type": "execute_result"
    }
   ],
   "source": [
    "URL4 = \"https://www.youtube.com/watch?v=roO5VGxOw2s&t=60s\"\n",
    "URL4.split(\"=\")"
   ]
  },
  {
   "cell_type": "code",
   "execution_count": 36,
   "metadata": {},
   "outputs": [
    {
     "data": {
      "text/plain": [
       "'roO5VGxOw2s'"
      ]
     },
     "execution_count": 36,
     "metadata": {},
     "output_type": "execute_result"
    }
   ],
   "source": [
    "URL4.split(\"=\")[-2][:-2]"
   ]
  },
  {
   "cell_type": "code",
   "execution_count": 51,
   "metadata": {},
   "outputs": [
    {
     "ename": "ModuleNotFoundError",
     "evalue": "No module named 'IPYNBrenderer'",
     "output_type": "error",
     "traceback": [
      "\u001b[1;31m---------------------------------------------------------------------------\u001b[0m",
      "\u001b[1;31mModuleNotFoundError\u001b[0m                       Traceback (most recent call last)",
      "Cell \u001b[1;32mIn[51], line 1\u001b[0m\n\u001b[1;32m----> 1\u001b[0m \u001b[39mfrom\u001b[39;00m \u001b[39mIPYNBrenderer\u001b[39;00m \u001b[39mimport\u001b[39;00m render_YouTube_video\n",
      "\u001b[1;31mModuleNotFoundError\u001b[0m: No module named 'IPYNBrenderer'"
     ]
    }
   ],
   "source": [
    "from IPYNBrenderer import render_YouTube_video"
   ]
  },
  {
   "cell_type": "code",
   "execution_count": 52,
   "metadata": {},
   "outputs": [
    {
     "ename": "NameError",
     "evalue": "name 'render_YouTube_video' is not defined",
     "output_type": "error",
     "traceback": [
      "\u001b[1;31m---------------------------------------------------------------------------\u001b[0m",
      "\u001b[1;31mNameError\u001b[0m                                 Traceback (most recent call last)",
      "Cell \u001b[1;32mIn[52], line 1\u001b[0m\n\u001b[1;32m----> 1\u001b[0m render_YouTube_video(URL1)\n",
      "\u001b[1;31mNameError\u001b[0m: name 'render_YouTube_video' is not defined"
     ]
    }
   ],
   "source": [
    "render_YouTube_video(URL1)"
   ]
  },
  {
   "cell_type": "code",
   "execution_count": 53,
   "metadata": {},
   "outputs": [
    {
     "ename": "NameError",
     "evalue": "name 'render_YouTube_video' is not defined",
     "output_type": "error",
     "traceback": [
      "\u001b[1;31m---------------------------------------------------------------------------\u001b[0m",
      "\u001b[1;31mNameError\u001b[0m                                 Traceback (most recent call last)",
      "Cell \u001b[1;32mIn[53], line 1\u001b[0m\n\u001b[1;32m----> 1\u001b[0m render_YouTube_video(URL2)\n",
      "\u001b[1;31mNameError\u001b[0m: name 'render_YouTube_video' is not defined"
     ]
    }
   ],
   "source": [
    "render_YouTube_video(URL2)"
   ]
  },
  {
   "cell_type": "code",
   "execution_count": 54,
   "metadata": {},
   "outputs": [
    {
     "ename": "NameError",
     "evalue": "name 'render_YouTube_video' is not defined",
     "output_type": "error",
     "traceback": [
      "\u001b[1;31m---------------------------------------------------------------------------\u001b[0m",
      "\u001b[1;31mNameError\u001b[0m                                 Traceback (most recent call last)",
      "Cell \u001b[1;32mIn[54], line 1\u001b[0m\n\u001b[1;32m----> 1\u001b[0m render_YouTube_video(URL3)\n",
      "\u001b[1;31mNameError\u001b[0m: name 'render_YouTube_video' is not defined"
     ]
    }
   ],
   "source": [
    "render_YouTube_video(URL3)"
   ]
  },
  {
   "cell_type": "code",
   "execution_count": 55,
   "metadata": {},
   "outputs": [
    {
     "data": {
      "text/plain": [
       "'https://www.youtube.com/watch?v=roO5VGxOw2s&t=60s'"
      ]
     },
     "execution_count": 55,
     "metadata": {},
     "output_type": "execute_result"
    }
   ],
   "source": [
    "URL4"
   ]
  },
  {
   "cell_type": "code",
   "execution_count": 42,
   "metadata": {},
   "outputs": [
    {
     "ename": "NameError",
     "evalue": "name 'render_YouTube_video' is not defined",
     "output_type": "error",
     "traceback": [
      "\u001b[1;31m---------------------------------------------------------------------------\u001b[0m",
      "\u001b[1;31mNameError\u001b[0m                                 Traceback (most recent call last)",
      "Cell \u001b[1;32mIn[42], line 1\u001b[0m\n\u001b[1;32m----> 1\u001b[0m render_YouTube_video(URL4)\n",
      "\u001b[1;31mNameError\u001b[0m: name 'render_YouTube_video' is not defined"
     ]
    }
   ],
   "source": [
    "render_YouTube_video(URL4)"
   ]
  },
  {
   "cell_type": "code",
   "execution_count": 43,
   "metadata": {},
   "outputs": [
    {
     "ename": "ModuleNotFoundError",
     "evalue": "No module named 'IPYNBrenderer'",
     "output_type": "error",
     "traceback": [
      "\u001b[1;31m---------------------------------------------------------------------------\u001b[0m",
      "\u001b[1;31mModuleNotFoundError\u001b[0m                       Traceback (most recent call last)",
      "Cell \u001b[1;32mIn[43], line 1\u001b[0m\n\u001b[1;32m----> 1\u001b[0m \u001b[39mfrom\u001b[39;00m \u001b[39mIPYNBrenderer\u001b[39;00m\u001b[39m.\u001b[39;00m\u001b[39mcustom_exception\u001b[39;00m \u001b[39mimport\u001b[39;00m InvalidURLException\n\u001b[0;32m      2\u001b[0m \u001b[39mfrom\u001b[39;00m \u001b[39mIPYNBrenderer\u001b[39;00m\u001b[39m.\u001b[39;00m\u001b[39mlogger\u001b[39;00m \u001b[39mimport\u001b[39;00m logger\n\u001b[0;32m      4\u001b[0m \u001b[39mdef\u001b[39;00m \u001b[39mget_time_info\u001b[39m(URL: \u001b[39mstr\u001b[39m) \u001b[39m-\u001b[39m\u001b[39m>\u001b[39m \u001b[39mint\u001b[39m:\n",
      "\u001b[1;31mModuleNotFoundError\u001b[0m: No module named 'IPYNBrenderer'"
     ]
    }
   ],
   "source": [
    "from IPYNBrenderer.custom_exception import InvalidURLException\n",
    "from IPYNBrenderer.logger import logger\n",
    "\n",
    "def get_time_info(URL: str) -> int:\n",
    "    def _verify_vid_id_len(vid_id, __expected_len=11):\n",
    "        len_of_vid_id = len(vid_id)\n",
    "        if len_of_vid_id != __expected_len:\n",
    "            raise InvalidURLException(\n",
    "                f\"Invalid video id with length: {len_of_vid_id}, expected: {__expected_len}\"\n",
    "            )\n",
    "\n",
    "    try:\n",
    "        split_val = URL.split(\"=\")\n",
    "        if len(split_val) > 3:\n",
    "            raise InvalidURLException\n",
    "        if \"watch\" in URL:\n",
    "            if \"&t\" in URL:\n",
    "                vid_id, time = split_val[-2][:-2], int(split_val[-1][:-1])\n",
    "                _verify_vid_id_len(vid_id)\n",
    "                logger.info(f\"video starts at: {time}\")\n",
    "                return time\n",
    "            else:\n",
    "                vid_id, time = split_val[-1], 0\n",
    "                _verify_vid_id_len(vid_id)\n",
    "                logger.info(f\"video starts at: {time}\")\n",
    "                return time\n",
    "        else:\n",
    "            if \"=\" in URL and \"?t\" in URL:\n",
    "                vid_id, time = split_val[0].split(\"/\")[-1][:-2], int(split_val[-1])\n",
    "                _verify_vid_id_len(vid_id)\n",
    "                logger.info(f\"video starts at: {time}\")\n",
    "                return time\n",
    "            else:\n",
    "                vid_id, time = URL.split(\"/\")[-1], 0\n",
    "                _verify_vid_id_len(vid_id)\n",
    "                logger.info(f\"video starts at: {time}\")\n",
    "                return time\n",
    "    except Exception:\n",
    "        raise InvalidURLException"
   ]
  },
  {
   "cell_type": "code",
   "execution_count": 44,
   "metadata": {},
   "outputs": [
    {
     "ename": "NameError",
     "evalue": "name 'get_time_info' is not defined",
     "output_type": "error",
     "traceback": [
      "\u001b[1;31m---------------------------------------------------------------------------\u001b[0m",
      "\u001b[1;31mNameError\u001b[0m                                 Traceback (most recent call last)",
      "Cell \u001b[1;32mIn[44], line 1\u001b[0m\n\u001b[1;32m----> 1\u001b[0m get_time_info(\u001b[39m\"\u001b[39m\u001b[39mhttps://www.youtube.com/watch?v==roO5VGxOw2s&t=22s\u001b[39m\u001b[39m\"\u001b[39m)\n",
      "\u001b[1;31mNameError\u001b[0m: name 'get_time_info' is not defined"
     ]
    }
   ],
   "source": [
    "get_time_info(\"https://www.youtube.com/watch?v==roO5VGxOw2s&t=22s\")"
   ]
  },
  {
   "cell_type": "code",
   "execution_count": 45,
   "metadata": {},
   "outputs": [
    {
     "ename": "ModuleNotFoundError",
     "evalue": "No module named 'IPYNBrenderer'",
     "output_type": "error",
     "traceback": [
      "\u001b[1;31m---------------------------------------------------------------------------\u001b[0m",
      "\u001b[1;31mModuleNotFoundError\u001b[0m                       Traceback (most recent call last)",
      "Cell \u001b[1;32mIn[45], line 1\u001b[0m\n\u001b[1;32m----> 1\u001b[0m \u001b[39mfrom\u001b[39;00m \u001b[39mIPYNBrenderer\u001b[39;00m \u001b[39mimport\u001b[39;00m render_site\n\u001b[0;32m      2\u001b[0m \u001b[39mfrom\u001b[39;00m \u001b[39mIPYNBrenderer\u001b[39;00m\u001b[39m.\u001b[39;00m\u001b[39mcustom_exception\u001b[39;00m \u001b[39mimport\u001b[39;00m InvalidURLException\n",
      "\u001b[1;31mModuleNotFoundError\u001b[0m: No module named 'IPYNBrenderer'"
     ]
    }
   ],
   "source": [
    "from IPYNBrenderer import render_site\n",
    "from IPYNBrenderer.custom_exception import InvalidURLException"
   ]
  },
  {
   "cell_type": "code",
   "execution_count": 46,
   "metadata": {},
   "outputs": [
    {
     "ename": "NameError",
     "evalue": "name 'render_site' is not defined",
     "output_type": "error",
     "traceback": [
      "\u001b[1;31m---------------------------------------------------------------------------\u001b[0m",
      "\u001b[1;31mNameError\u001b[0m                                 Traceback (most recent call last)",
      "Cell \u001b[1;32mIn[46], line 2\u001b[0m\n\u001b[0;32m      1\u001b[0m URL \u001b[39m=\u001b[39m \u001b[39m\"\u001b[39m\u001b[39mhttp://pytorch.org/\u001b[39m\u001b[39m\"\u001b[39m\n\u001b[1;32m----> 2\u001b[0m render_site(URL)\n",
      "\u001b[1;31mNameError\u001b[0m: name 'render_site' is not defined"
     ]
    }
   ],
   "source": [
    "URL = \"http://pytorch.org/\"\n",
    "render_site(URL)"
   ]
  },
  {
   "cell_type": "code",
   "execution_count": 47,
   "metadata": {},
   "outputs": [
    {
     "ename": "NameError",
     "evalue": "name 'render_site' is not defined",
     "output_type": "error",
     "traceback": [
      "\u001b[1;31m---------------------------------------------------------------------------\u001b[0m",
      "\u001b[1;31mNameError\u001b[0m                                 Traceback (most recent call last)",
      "Cell \u001b[1;32mIn[47], line 2\u001b[0m\n\u001b[0;32m      1\u001b[0m URL \u001b[39m=\u001b[39m \u001b[39m\"\u001b[39m\u001b[39mhttp://pytorch\u001b[39m\u001b[39m\"\u001b[39m\n\u001b[1;32m----> 2\u001b[0m render_site(URL)\n",
      "\u001b[1;31mNameError\u001b[0m: name 'render_site' is not defined"
     ]
    }
   ],
   "source": [
    "URL = \"http://pytorch\"\n",
    "render_site(URL)"
   ]
  },
  {
   "cell_type": "code",
   "execution_count": null,
   "metadata": {},
   "outputs": [],
   "source": []
  }
 ],
 "metadata": {
  "kernelspec": {
   "display_name": "Python 3",
   "language": "python",
   "name": "python3"
  },
  "language_info": {
   "codemirror_mode": {
    "name": "ipython",
    "version": 3
   },
   "file_extension": ".py",
   "mimetype": "text/x-python",
   "name": "python",
   "nbconvert_exporter": "python",
   "pygments_lexer": "ipython3",
   "version": "3.8.17"
  },
  "orig_nbformat": 4
 },
 "nbformat": 4,
 "nbformat_minor": 2
}
